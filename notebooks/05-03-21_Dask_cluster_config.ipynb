{
 "cells": [
  {
   "cell_type": "code",
   "execution_count": 1,
   "metadata": {
    "collapsed": true,
    "pycharm": {
     "name": "#%%\n"
    }
   },
   "outputs": [],
   "source": [
    "from dask_jobqueue import SLURMCluster\n",
    "import os\n",
    "import xarray as xr\n",
    "import os\n",
    "import dask.array as da\n",
    "from dask.distributed import Client,as_completed,LocalCluster,get_task_stream\n",
    "from data.tonetCDF import to_netcdf\n",
    "\n",
    "#memory and cores are pr JOB and not in total\n",
    "#Setup for q64 only so far\n"
   ]
  },
  {
   "cell_type": "code",
   "execution_count": null,
   "outputs": [],
   "source": [
    "cluster=SLURMCluster(cores=2,\n",
    "                     processes=1,\n",
    "                     memory=\"5GB\",\n",
    "                     project=\"dask_test\",\n",
    "                     queue='q64',\n",
    "                     walltime='0-02:00:00',\n",
    "                     local_directory='/scratch/<jobid>'\n",
    "                     )\n",
    "\n",
    "#Ting til senere\n",
    "#                     interface='s08i',\n",
    "\n",
    "\n",
    "client =Client(cluster)\n",
    "\n",
    "interim=\"/home/au643300/NOBACKUP/interim/\"\n",
    "raw_path=\"/home/au643300/DataHandling/data/raw/\"\n",
    "\n",
    "ca=cluster.adapt(minimum=0,maximum=64)\n",
    "\n",
    "\n",
    "to_netcdf(raw_path,interim)\n"
   ],
   "metadata": {
    "collapsed": false,
    "pycharm": {
     "name": "#%%\n"
    }
   }
  }
 ],
 "metadata": {
  "kernelspec": {
   "name": "pycharm-17c5fe87",
   "language": "python",
   "display_name": "PyCharm (DataHandling)"
  },
  "language_info": {
   "codemirror_mode": {
    "name": "ipython",
    "version": 2
   },
   "file_extension": ".py",
   "mimetype": "text/x-python",
   "name": "python",
   "nbconvert_exporter": "python",
   "pygments_lexer": "ipython2",
   "version": "2.7.6"
  }
 },
 "nbformat": 4,
 "nbformat_minor": 0
}