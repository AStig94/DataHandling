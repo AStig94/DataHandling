{
 "cells": [
  {
   "cell_type": "code",
   "execution_count": 1,
   "metadata": {
    "collapsed": true,
    "pycharm": {
     "name": "#%%\n"
    }
   },
   "outputs": [
    {
     "ename": "ValueError",
     "evalue": "You must specify how much cores and memory per job you want to use, for example:\ncluster = SLURMCluster(cores=8, memory='24GB')",
     "output_type": "error",
     "traceback": [
      "\u001B[1;31m---------------------------------------------------------------------------\u001B[0m",
      "\u001B[1;31mValueError\u001B[0m                                Traceback (most recent call last)",
      "\u001B[1;32m<ipython-input-1-b8766ffbde66>\u001B[0m in \u001B[0;36m<module>\u001B[1;34m\u001B[0m\n\u001B[0;32m      2\u001B[0m \u001B[1;33m\u001B[0m\u001B[0m\n\u001B[0;32m      3\u001B[0m \u001B[1;33m\u001B[0m\u001B[0m\n\u001B[1;32m----> 4\u001B[1;33m \u001B[0mcluster\u001B[0m\u001B[1;33m=\u001B[0m\u001B[0mSLURMCluster\u001B[0m\u001B[1;33m(\u001B[0m\u001B[1;33m)\u001B[0m\u001B[1;33m\u001B[0m\u001B[1;33m\u001B[0m\u001B[0m\n\u001B[0m",
      "\u001B[1;32m~\\Anaconda3\\lib\\site-packages\\dask_jobqueue\\core.py\u001B[0m in \u001B[0;36m__init__\u001B[1;34m(self, n_workers, job_cls, loop, security, silence_logs, name, asynchronous, dashboard_address, host, scheduler_options, interface, protocol, config_name, **job_kwargs)\u001B[0m\n\u001B[0;32m    526\u001B[0m             ]\n\u001B[0;32m    527\u001B[0m \u001B[1;33m\u001B[0m\u001B[0m\n\u001B[1;32m--> 528\u001B[1;33m         \u001B[0mself\u001B[0m\u001B[1;33m.\u001B[0m\u001B[0m_dummy_job\u001B[0m  \u001B[1;31m# trigger property to ensure that the job is valid\u001B[0m\u001B[1;33m\u001B[0m\u001B[1;33m\u001B[0m\u001B[0m\n\u001B[0m\u001B[0;32m    529\u001B[0m \u001B[1;33m\u001B[0m\u001B[0m\n\u001B[0;32m    530\u001B[0m         super().__init__(\n",
      "\u001B[1;32m~\\Anaconda3\\lib\\site-packages\\dask_jobqueue\\core.py\u001B[0m in \u001B[0;36m_dummy_job\u001B[1;34m(self)\u001B[0m\n\u001B[0;32m    555\u001B[0m             \u001B[0maddress\u001B[0m \u001B[1;33m=\u001B[0m \u001B[1;34m\"tcp://<insert-scheduler-address-here>:8786\"\u001B[0m\u001B[1;33m\u001B[0m\u001B[1;33m\u001B[0m\u001B[0m\n\u001B[0;32m    556\u001B[0m         \u001B[1;32mtry\u001B[0m\u001B[1;33m:\u001B[0m\u001B[1;33m\u001B[0m\u001B[1;33m\u001B[0m\u001B[0m\n\u001B[1;32m--> 557\u001B[1;33m             return self.job_cls(\n\u001B[0m\u001B[0;32m    558\u001B[0m                 \u001B[0maddress\u001B[0m \u001B[1;32mor\u001B[0m \u001B[1;34m\"tcp://<insert-scheduler-address-here>:8786\"\u001B[0m\u001B[1;33m,\u001B[0m\u001B[1;33m\u001B[0m\u001B[1;33m\u001B[0m\u001B[0m\n\u001B[0;32m    559\u001B[0m                 \u001B[1;31m# The 'name' parameter is replaced inside Job class by the\u001B[0m\u001B[1;33m\u001B[0m\u001B[1;33m\u001B[0m\u001B[1;33m\u001B[0m\u001B[0m\n",
      "\u001B[1;32m~\\Anaconda3\\lib\\site-packages\\dask_jobqueue\\slurm.py\u001B[0m in \u001B[0;36m__init__\u001B[1;34m(self, scheduler, name, queue, project, walltime, job_cpu, job_mem, job_extra, config_name, **base_class_kwargs)\u001B[0m\n\u001B[0;32m     28\u001B[0m         \u001B[1;33m**\u001B[0m\u001B[0mbase_class_kwargs\u001B[0m\u001B[1;33m\u001B[0m\u001B[1;33m\u001B[0m\u001B[0m\n\u001B[0;32m     29\u001B[0m     ):\n\u001B[1;32m---> 30\u001B[1;33m         super().__init__(\n\u001B[0m\u001B[0;32m     31\u001B[0m             \u001B[0mscheduler\u001B[0m\u001B[1;33m=\u001B[0m\u001B[0mscheduler\u001B[0m\u001B[1;33m,\u001B[0m \u001B[0mname\u001B[0m\u001B[1;33m=\u001B[0m\u001B[0mname\u001B[0m\u001B[1;33m,\u001B[0m \u001B[0mconfig_name\u001B[0m\u001B[1;33m=\u001B[0m\u001B[0mconfig_name\u001B[0m\u001B[1;33m,\u001B[0m \u001B[1;33m**\u001B[0m\u001B[0mbase_class_kwargs\u001B[0m\u001B[1;33m\u001B[0m\u001B[1;33m\u001B[0m\u001B[0m\n\u001B[0;32m     32\u001B[0m         )\n",
      "\u001B[1;32m~\\Anaconda3\\lib\\site-packages\\dask_jobqueue\\core.py\u001B[0m in \u001B[0;36m__init__\u001B[1;34m(self, scheduler, name, cores, memory, processes, nanny, protocol, security, interface, death_timeout, local_directory, extra, env_extra, header_skip, log_directory, shebang, python, job_name, config_name)\u001B[0m\n\u001B[0;32m    170\u001B[0m             \u001B[0mjob_class_name\u001B[0m \u001B[1;33m=\u001B[0m \u001B[0mself\u001B[0m\u001B[1;33m.\u001B[0m\u001B[0m__class__\u001B[0m\u001B[1;33m.\u001B[0m\u001B[0m__name__\u001B[0m\u001B[1;33m\u001B[0m\u001B[1;33m\u001B[0m\u001B[0m\n\u001B[0;32m    171\u001B[0m             \u001B[0mcluster_class_name\u001B[0m \u001B[1;33m=\u001B[0m \u001B[0mjob_class_name\u001B[0m\u001B[1;33m.\u001B[0m\u001B[0mreplace\u001B[0m\u001B[1;33m(\u001B[0m\u001B[1;34m\"Job\"\u001B[0m\u001B[1;33m,\u001B[0m \u001B[1;34m\"Cluster\"\u001B[0m\u001B[1;33m)\u001B[0m\u001B[1;33m\u001B[0m\u001B[1;33m\u001B[0m\u001B[0m\n\u001B[1;32m--> 172\u001B[1;33m             raise ValueError(\n\u001B[0m\u001B[0;32m    173\u001B[0m                 \u001B[1;34m\"You must specify how much cores and memory per job you want to use, for example:\\n\"\u001B[0m\u001B[1;33m\u001B[0m\u001B[1;33m\u001B[0m\u001B[0m\n\u001B[0;32m    174\u001B[0m                 \"cluster = {}(cores={}, memory={!r})\".format(\n",
      "\u001B[1;31mValueError\u001B[0m: You must specify how much cores and memory per job you want to use, for example:\ncluster = SLURMCluster(cores=8, memory='24GB')"
     ]
    }
   ],
   "source": [
    "from dask_jobqueue import SLURMCluster\n",
    "\n",
    "\n",
    "#memory and cores are pr JOB and not in total\n",
    "\n",
    "cluster=SLURMCluster(cores=2,\n",
    "                     processes=1,\n",
    "                     memory=\"5GB\",\n",
    "                     project=\"lol\"\n",
    "                     local_directory\n",
    "\n",
    "\n",
    "\n",
    "\n",
    "                     )"
   ]
  }
 ],
 "metadata": {
  "kernelspec": {
   "name": "pycharm-17c5fe87",
   "language": "python",
   "display_name": "PyCharm (DataHandling)"
  },
  "language_info": {
   "codemirror_mode": {
    "name": "ipython",
    "version": 2
   },
   "file_extension": ".py",
   "mimetype": "text/x-python",
   "name": "python",
   "nbconvert_exporter": "python",
   "pygments_lexer": "ipython2",
   "version": "2.7.6"
  }
 },
 "nbformat": 4,
 "nbformat_minor": 0
}