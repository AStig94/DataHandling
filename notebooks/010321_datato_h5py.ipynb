{
 "cells": [
  {
   "cell_type": "markdown",
   "id": "educated-darkness",
   "metadata": {},
   "source": [
    "# test af både jupter og det med at importere ting som jeg har tænkt mig\n",
    "\n",
    "\n"
   ]
  },
  {
   "cell_type": "code",
   "execution_count": 5,
   "outputs": [],
   "source": [
    "from data.read_binary import readDNSdata\n",
    "import os\n",
    "import dask.array as da\n",
    "import h5py\n",
    "import dask"
   ],
   "metadata": {
    "collapsed": false,
    "pycharm": {
     "name": "#%%\n"
    }
   }
  },
  {
   "cell_type": "markdown",
   "id": "radical-genealogy",
   "metadata": {
    "pycharm": {
     "name": "#%% md\n"
    }
   },
   "source": [
    "først liste over alle filerne"
   ]
  },
  {
   "cell_type": "code",
   "execution_count": 2,
   "outputs": [],
   "source": [
    "filelist = os.listdir(\"../data/raw\")\n",
    "filelist=sorted(filelist)"
   ],
   "metadata": {
    "collapsed": false,
    "pycharm": {
     "name": "#%%\n"
    }
   }
  },
  {
   "cell_type": "markdown",
   "source": [
    "Nu prøver jeg så at bruge dask delayed\n",
    "https://docs.dask.org/en/latest/array-creation.html"
   ],
   "metadata": {
    "collapsed": false
   }
  },
  {
   "cell_type": "code",
   "execution_count": 15,
   "outputs": [
    {
     "data": {
      "text/plain": "dask.array<concatenate, shape=(1792, 201, 256), dtype=float64, chunksize=(128, 201, 128), chunktype=numpy.ndarray>",
      "text/html": "<table>\n<tr>\n<td>\n<table>\n  <thead>\n    <tr><td> </td><th> Array </th><th> Chunk </th></tr>\n  </thead>\n  <tbody>\n    <tr><th> Bytes </th><td> 737.67 MB </td> <td> 26.35 MB </td></tr>\n    <tr><th> Shape </th><td> (1792, 201, 256) </td> <td> (128, 201, 128) </td></tr>\n    <tr><th> Count </th><td> 60 Tasks </td><td> 28 Chunks </td></tr>\n    <tr><th> Type </th><td> float64 </td><td> numpy.ndarray </td></tr>\n  </tbody>\n</table>\n</td>\n<td>\n<svg width=\"171\" height=\"159\" style=\"stroke:rgb(0,0,0);stroke-width:1\" >\n\n  <!-- Horizontal lines -->\n  <line x1=\"10\" y1=\"0\" x2=\"80\" y2=\"70\" style=\"stroke-width:2\" />\n  <line x1=\"10\" y1=\"39\" x2=\"80\" y2=\"109\" style=\"stroke-width:2\" />\n\n  <!-- Vertical lines -->\n  <line x1=\"10\" y1=\"0\" x2=\"10\" y2=\"39\" style=\"stroke-width:2\" />\n  <line x1=\"15\" y1=\"5\" x2=\"15\" y2=\"44\" />\n  <line x1=\"20\" y1=\"10\" x2=\"20\" y2=\"49\" />\n  <line x1=\"25\" y1=\"15\" x2=\"25\" y2=\"54\" />\n  <line x1=\"30\" y1=\"20\" x2=\"30\" y2=\"59\" />\n  <line x1=\"35\" y1=\"25\" x2=\"35\" y2=\"64\" />\n  <line x1=\"40\" y1=\"30\" x2=\"40\" y2=\"69\" />\n  <line x1=\"45\" y1=\"35\" x2=\"45\" y2=\"74\" />\n  <line x1=\"50\" y1=\"40\" x2=\"50\" y2=\"79\" />\n  <line x1=\"55\" y1=\"45\" x2=\"55\" y2=\"84\" />\n  <line x1=\"60\" y1=\"50\" x2=\"60\" y2=\"89\" />\n  <line x1=\"65\" y1=\"55\" x2=\"65\" y2=\"94\" />\n  <line x1=\"70\" y1=\"60\" x2=\"70\" y2=\"99\" />\n  <line x1=\"75\" y1=\"65\" x2=\"75\" y2=\"104\" />\n  <line x1=\"80\" y1=\"70\" x2=\"80\" y2=\"109\" style=\"stroke-width:2\" />\n\n  <!-- Colored Rectangle -->\n  <polygon points=\"10.0,0.0 80.58823529411765,70.58823529411765 80.58823529411765,109.81121640437671 10.0,39.222981110259056\" style=\"fill:#ECB172A0;stroke-width:0\"/>\n\n  <!-- Horizontal lines -->\n  <line x1=\"10\" y1=\"0\" x2=\"50\" y2=\"0\" style=\"stroke-width:2\" />\n  <line x1=\"15\" y1=\"5\" x2=\"55\" y2=\"5\" />\n  <line x1=\"20\" y1=\"10\" x2=\"60\" y2=\"10\" />\n  <line x1=\"25\" y1=\"15\" x2=\"65\" y2=\"15\" />\n  <line x1=\"30\" y1=\"20\" x2=\"70\" y2=\"20\" />\n  <line x1=\"35\" y1=\"25\" x2=\"75\" y2=\"25\" />\n  <line x1=\"40\" y1=\"30\" x2=\"80\" y2=\"30\" />\n  <line x1=\"45\" y1=\"35\" x2=\"85\" y2=\"35\" />\n  <line x1=\"50\" y1=\"40\" x2=\"90\" y2=\"40\" />\n  <line x1=\"55\" y1=\"45\" x2=\"95\" y2=\"45\" />\n  <line x1=\"60\" y1=\"50\" x2=\"100\" y2=\"50\" />\n  <line x1=\"65\" y1=\"55\" x2=\"105\" y2=\"55\" />\n  <line x1=\"70\" y1=\"60\" x2=\"110\" y2=\"60\" />\n  <line x1=\"75\" y1=\"65\" x2=\"116\" y2=\"65\" />\n  <line x1=\"80\" y1=\"70\" x2=\"121\" y2=\"70\" style=\"stroke-width:2\" />\n\n  <!-- Vertical lines -->\n  <line x1=\"10\" y1=\"0\" x2=\"80\" y2=\"70\" style=\"stroke-width:2\" />\n  <line x1=\"30\" y1=\"0\" x2=\"100\" y2=\"70\" />\n  <line x1=\"50\" y1=\"0\" x2=\"121\" y2=\"70\" style=\"stroke-width:2\" />\n\n  <!-- Colored Rectangle -->\n  <polygon points=\"10.0,0.0 50.46844837769698,0.0 121.05668367181462,70.58823529411765 80.58823529411765,70.58823529411765\" style=\"fill:#ECB172A0;stroke-width:0\"/>\n\n  <!-- Horizontal lines -->\n  <line x1=\"80\" y1=\"70\" x2=\"121\" y2=\"70\" style=\"stroke-width:2\" />\n  <line x1=\"80\" y1=\"109\" x2=\"121\" y2=\"109\" style=\"stroke-width:2\" />\n\n  <!-- Vertical lines -->\n  <line x1=\"80\" y1=\"70\" x2=\"80\" y2=\"109\" style=\"stroke-width:2\" />\n  <line x1=\"100\" y1=\"70\" x2=\"100\" y2=\"109\" />\n  <line x1=\"121\" y1=\"70\" x2=\"121\" y2=\"109\" style=\"stroke-width:2\" />\n\n  <!-- Colored Rectangle -->\n  <polygon points=\"80.58823529411765,70.58823529411765 121.05668367181462,70.58823529411765 121.05668367181462,109.81121640437671 80.58823529411765,109.81121640437671\" style=\"fill:#ECB172A0;stroke-width:0\"/>\n\n  <!-- Text -->\n  <text x=\"100.822459\" y=\"129.811216\" font-size=\"1.0rem\" font-weight=\"100\" text-anchor=\"middle\" >256</text>\n  <text x=\"141.056684\" y=\"90.199726\" font-size=\"1.0rem\" font-weight=\"100\" text-anchor=\"middle\" transform=\"rotate(-90,141.056684,90.199726)\">201</text>\n  <text x=\"35.294118\" y=\"94.517099\" font-size=\"1.0rem\" font-weight=\"100\" text-anchor=\"middle\" transform=\"rotate(45,35.294118,94.517099)\">1792</text>\n</svg>\n</td>\n</tr>\n</table>"
     },
     "execution_count": 15,
     "metadata": {},
     "output_type": "execute_result"
    }
   ],
   "source": [
    "#Den her er ikke lazy tror jeg\n",
    "dask_arrays=[]\n",
    "for fn in filelist:\n",
    "    quantities, _, _, _, _, _, _, _ = readDNSdata('../data/raw/'+fn, onlyU=False)\n",
    "    array=da.from_array(quantities,chunks='500MB')\n",
    "    dask_arrays.append(array)\n",
    "da.concatenate(array)\n",
    "\n"
   ],
   "metadata": {
    "collapsed": false,
    "pycharm": {
     "name": "#%%\n"
    }
   }
  }
 ],
 "metadata": {
  "kernelspec": {
   "name": "pycharm-17c5fe87",
   "language": "python",
   "display_name": "PyCharm (DataHandling)"
  },
  "language_info": {
   "codemirror_mode": {
    "name": "ipython",
    "version": 3
   },
   "file_extension": ".py",
   "mimetype": "text/x-python",
   "name": "python",
   "nbconvert_exporter": "python",
   "pygments_lexer": "ipython3",
   "version": "3.8.5"
  }
 },
 "nbformat": 4,
 "nbformat_minor": 5
}