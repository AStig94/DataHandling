{
 "cells": [
  {
   "cell_type": "code",
   "execution_count": 1,
   "id": "neither-floating",
   "metadata": {},
   "outputs": [],
   "source": [
    "import os\n",
    "import sys"
   ]
  },
  {
   "cell_type": "code",
   "execution_count": 2,
   "id": "moved-circulation",
   "metadata": {},
   "outputs": [],
   "source": [
    "os.chdir('/home/au643300/DataHandling/')\n",
    "sys.path.append('/home/au643300/DataHandling/')"
   ]
  },
  {
   "cell_type": "code",
   "execution_count": 3,
   "id": "expected-mystery",
   "metadata": {},
   "outputs": [],
   "source": [
    "from dask_jobqueue import SLURMCluster\n",
    "from dask.distributed import Client, as_completed\n",
    "import glob\n",
    "from src.data.tonetCDF import to_netcdf\n",
    "import xarray as xr\n",
    "import seaborn as sns\n",
    "import matplotlib.pyplot as plt\n",
    "import pandas as pd\n",
    "from src.interim import read_valdata\n",
    "import numpy as np"
   ]
  },
  {
   "cell_type": "code",
   "execution_count": 5,
   "id": "functional-removal",
   "metadata": {},
   "outputs": [],
   "source": [
    "cluster=SLURMCluster(cores=8,\n",
    "                     processes=1,\n",
    "                     memory=\"62GB\",\n",
    "                     queue='q64',\n",
    "                     walltime='0-00:30:00',\n",
    "                     local_directory='/scratch/$SLURM_JOB_ID',\n",
    "                     interface='ib0',\n",
    "                     extra=['--resources mem=15']\n",
    "                    )\n",
    "                    "
   ]
  },
  {
   "cell_type": "code",
   "execution_count": 7,
   "id": "adult-terry",
   "metadata": {},
   "outputs": [
    {
     "data": {
      "text/plain": [
       "<distributed.deploy.adaptive.Adaptive at 0x7f6d5c616310>"
      ]
     },
     "execution_count": 7,
     "metadata": {},
     "output_type": "execute_result"
    }
   ],
   "source": [
    "cluster.adapt(minimum_jobs=1,maximum_jobs=16)"
   ]
  },
  {
   "cell_type": "code",
   "execution_count": 6,
   "id": "optimum-reservoir",
   "metadata": {},
   "outputs": [],
   "source": [
    "client=Client(cluster)"
   ]
  },
  {
   "cell_type": "markdown",
   "id": "portuguese-exposure",
   "metadata": {},
   "source": [
    "Her skal jeg bruge xr.open_mfdataset sammen med glob til at lave en liste over alle nc filerne, åbne dem op og tjekke om coordinaterne matcher en reference liste, list(ds.keys())"
   ]
  }
 ],
 "metadata": {
  "kernelspec": {
   "display_name": "Python 3",
   "language": "python",
   "name": "python3"
  },
  "language_info": {
   "codemirror_mode": {
    "name": "ipython",
    "version": 3
   },
   "file_extension": ".py",
   "mimetype": "text/x-python",
   "name": "python",
   "nbconvert_exporter": "python",
   "pygments_lexer": "ipython3",
   "version": "3.8.8"
  }
 },
 "nbformat": 4,
 "nbformat_minor": 5
}
