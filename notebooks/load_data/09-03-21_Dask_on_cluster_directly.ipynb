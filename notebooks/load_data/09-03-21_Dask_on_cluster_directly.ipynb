{
 "cells": [
  {
   "cell_type": "markdown",
   "id": "inclusive-premises",
   "metadata": {},
   "source": [
    "Så prøver vi en gang til at få det her shizzle til at virke. Først alle import"
   ]
  },
  {
   "cell_type": "code",
   "execution_count": 2,
   "id": "framed-gardening",
   "metadata": {},
   "outputs": [],
   "source": [
    "import sys\n",
    "import os"
   ]
  },
  {
   "cell_type": "code",
   "execution_count": 3,
   "id": "brilliant-router",
   "metadata": {},
   "outputs": [],
   "source": [
    "os.chdir('/home/au643300/DataHandling/')"
   ]
  },
  {
   "cell_type": "markdown",
   "id": "turned-tender",
   "metadata": {},
   "source": [
    "Sætter Datahandling in i min syspath"
   ]
  },
  {
   "cell_type": "code",
   "execution_count": 4,
   "id": "alternate-wallet",
   "metadata": {},
   "outputs": [],
   "source": [
    "sys.path.append('/home/au643300/DataHandling/')"
   ]
  },
  {
   "cell_type": "code",
   "execution_count": 5,
   "id": "metallic-pattern",
   "metadata": {},
   "outputs": [],
   "source": [
    "from dask.distributed import Client, as_completed, LocalCluster, get_task_stream\n",
    "import dask\n",
    "import xarray as xr\n",
    "from dask_jobqueue import SLURMCluster\n",
    "from dask.distributed import Client, fire_and_forget\n",
    "import glob\n",
    "import importlib\n",
    "from src.data.tonetCDF import to_netcdf  "
   ]
  },
  {
   "cell_type": "markdown",
   "id": "junior-persian",
   "metadata": {},
   "source": [
    "starter cluster op"
   ]
  },
  {
   "cell_type": "code",
   "execution_count": 5,
   "id": "blind-blast",
   "metadata": {},
   "outputs": [],
   "source": [
    "cluster=SLURMCluster(cores=4,\n",
    "                     processes=1,\n",
    "                     memory=\"22GiB\",\n",
    "                     queue='q64',\n",
    "                     walltime='0-00:30:00',\n",
    "                     local_directory='/scratch/$SLURM_JOB_ID',\n",
    "                     interface='ib0',\n",
    "                     extra=['--resources mem=20']\n",
    "                    )\n",
    "                    "
   ]
  },
  {
   "cell_type": "code",
   "execution_count": 8,
   "id": "stretch-light",
   "metadata": {},
   "outputs": [],
   "source": [
    "client=Client(cluster)"
   ]
  },
  {
   "cell_type": "code",
   "execution_count": 9,
   "id": "induced-brand",
   "metadata": {},
   "outputs": [
    {
     "data": {
      "text/plain": [
       "<distributed.deploy.adaptive.Adaptive at 0x7f6bd109deb0>"
      ]
     },
     "execution_count": 9,
     "metadata": {},
     "output_type": "execute_result"
    }
   ],
   "source": [
    "cluster.adapt(minimum_jobs=1, maximum_jobs=3)"
   ]
  },
  {
   "cell_type": "code",
   "execution_count": 10,
   "id": "other-cheese",
   "metadata": {},
   "outputs": [
    {
     "data": {
      "text/html": [
       "<table style=\"border: 2px solid white;\">\n",
       "<tr>\n",
       "<td style=\"vertical-align: top; border: 0px solid white\">\n",
       "<h3 style=\"text-align: left;\">Client</h3>\n",
       "<ul style=\"text-align: left; list-style: none; margin: 0; padding: 0;\">\n",
       "  <li><b>Scheduler: </b>tcp://10.100.8.13:46542</li>\n",
       "  <li><b>Dashboard: </b><a href='http://10.100.8.13:8787/status' target='_blank'>http://10.100.8.13:8787/status</a></li>\n",
       "</ul>\n",
       "</td>\n",
       "<td style=\"vertical-align: top; border: 0px solid white\">\n",
       "<h3 style=\"text-align: left;\">Cluster</h3>\n",
       "<ul style=\"text-align: left; list-style:none; margin: 0; padding: 0;\">\n",
       "  <li><b>Workers: </b>1</li>\n",
       "  <li><b>Cores: </b>4</li>\n",
       "  <li><b>Memory: </b>23.62 GB</li>\n",
       "</ul>\n",
       "</td>\n",
       "</tr>\n",
       "</table>"
      ],
      "text/plain": [
       "<Client: 'tcp://10.100.8.13:46542' processes=1 threads=4, memory=23.62 GB>"
      ]
     },
     "execution_count": 10,
     "metadata": {},
     "output_type": "execute_result"
    }
   ],
   "source": [
    "client"
   ]
  },
  {
   "cell_type": "code",
   "execution_count": 6,
   "id": "bulgarian-deputy",
   "metadata": {},
   "outputs": [],
   "source": [
    "raw_path=\"/home/au643300/DataHandling/data/raw/\"\n",
    "filelist_raw=glob.glob(raw_path+'*.u')\n",
    "\n",
    "interim_path=\"/home/au643300/NOBACKUP/interim/\"\n",
    "filelist_interim=glob.glob(interim_path+'*.nc')\n",
    "for file in filelist_interim:\n",
    "    size=os.path.getsize(file)\n",
    "    if size < 500000000:\n",
    "        os.remove(file)\n"
   ]
  },
  {
   "cell_type": "code",
   "execution_count": 28,
   "id": "impossible-prototype",
   "metadata": {},
   "outputs": [],
   "source": [
    "file_only_interim=[]\n",
    "file_only_raw=[]\n",
    "for file in filelist_interim:\n",
    "    a=os.path.basename(file)\n",
    "    a=a[:-3]\n",
    "    file_only_interim.append(a)\n",
    "for file in filelist:\n",
    "    b=os.path.basename(file)\n",
    "    b=b[:-2]\n",
    "    file_only_raw.append(b)"
   ]
  },
  {
   "cell_type": "code",
   "execution_count": 32,
   "id": "essential-attribute",
   "metadata": {},
   "outputs": [],
   "source": [
    "diff=list(set(file_only_interim)^set(file_only_raw))"
   ]
  },
  {
   "cell_type": "code",
   "execution_count": 62,
   "id": "printable-taylor",
   "metadata": {},
   "outputs": [],
   "source": [
    "sym_path=[]\n",
    "for name in diff:\n",
    "    sym_path.append(\"/home/au643300/DataHandling/data/raw/\"+name+'.u')\n"
   ]
  },
  {
   "cell_type": "code",
   "execution_count": 63,
   "id": "individual-royal",
   "metadata": {},
   "outputs": [],
   "source": [
    "file_path=[]\n",
    "for path in a:\n",
    "    file_path.append(os.readlink(path))"
   ]
  },
  {
   "cell_type": "code",
   "execution_count": 12,
   "id": "chubby-chest",
   "metadata": {},
   "outputs": [],
   "source": [
    "client.map(to_netcdf,file_path,resources={'mem': 5},retries=5)"
   ]
  }
 ],
 "metadata": {
  "kernelspec": {
   "display_name": "Python 3",
   "language": "python",
   "name": "python3"
  },
  "language_info": {
   "codemirror_mode": {
    "name": "ipython",
    "version": 3
   },
   "file_extension": ".py",
   "mimetype": "text/x-python",
   "name": "python",
   "nbconvert_exporter": "python",
   "pygments_lexer": "ipython3",
   "version": "3.8.8"
  }
 },
 "nbformat": 4,
 "nbformat_minor": 5
}
