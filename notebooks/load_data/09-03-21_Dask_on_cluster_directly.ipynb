{
 "cells": [
  {
   "cell_type": "markdown",
   "id": "missing-passport",
   "metadata": {},
   "source": [
    "Så prøver vi en gang til at få det her shizzle til at virke. Først alle import"
   ]
  },
  {
   "cell_type": "code",
   "execution_count": 2,
   "id": "injured-carol",
   "metadata": {},
   "outputs": [],
   "source": [
    "import sys"
   ]
  },
  {
   "cell_type": "markdown",
   "id": "unnecessary-columbia",
   "metadata": {},
   "source": [
    "Sætter Datahandling in i min syspath"
   ]
  },
  {
   "cell_type": "code",
   "execution_count": 4,
   "id": "municipal-drunk",
   "metadata": {},
   "outputs": [],
   "source": [
    "sys.path.append('/home/au643300/DataHandling/')"
   ]
  },
  {
   "cell_type": "code",
   "execution_count": 5,
   "id": "tamil-dragon",
   "metadata": {},
   "outputs": [],
   "source": [
    "import os\n",
    "from dask.distributed import Client, as_completed, LocalCluster, get_task_stream\n",
    "import xarray as xr\n",
    "from dask_jobqueue import SLURMCluster\n",
    "import xarray as xr\n",
    "from dask.distributed import Client, fire_and_forget\n",
    "import glob\n",
    "from src.data import *"
   ]
  },
  {
   "cell_type": "markdown",
   "id": "encouraging-david",
   "metadata": {},
   "source": [
    "starter cluster op"
   ]
  },
  {
   "cell_type": "code",
   "execution_count": 12,
   "id": "herbal-mathematics",
   "metadata": {},
   "outputs": [],
   "source": [
    "cluster=SLURMCluster(cores=16,\n",
    "                     processes=1,\n",
    "                     memory=\"90GB\",\n",
    "                     queue='q64',\n",
    "                     walltime='0-00:30:00',\n",
    "                     local_directory='/scratch/$SLURM_JOB_ID',\n",
    "                     interface='ib0',\n",
    "                     resources = {'mem':90}\n",
    "                     )"
   ]
  },
  {
   "cell_type": "code",
   "execution_count": 13,
   "id": "distinguished-component",
   "metadata": {},
   "outputs": [],
   "source": [
    "client=Client(cluster)"
   ]
  },
  {
   "cell_type": "code",
   "execution_count": 15,
   "id": "sweet-perry",
   "metadata": {},
   "outputs": [],
   "source": [
    "cluster.scale(1)"
   ]
  },
  {
   "cell_type": "code",
   "execution_count": 14,
   "id": "excessive-narrative",
   "metadata": {},
   "outputs": [
    {
     "data": {
      "text/html": [
       "<table style=\"border: 2px solid white;\">\n",
       "<tr>\n",
       "<td style=\"vertical-align: top; border: 0px solid white\">\n",
       "<h3 style=\"text-align: left;\">Client</h3>\n",
       "<ul style=\"text-align: left; list-style: none; margin: 0; padding: 0;\">\n",
       "  <li><b>Scheduler: </b>tcp://10.100.8.11:35574</li>\n",
       "  <li><b>Dashboard: </b><a href='http://10.100.8.11:8787/status' target='_blank'>http://10.100.8.11:8787/status</a></li>\n",
       "</ul>\n",
       "</td>\n",
       "<td style=\"vertical-align: top; border: 0px solid white\">\n",
       "<h3 style=\"text-align: left;\">Cluster</h3>\n",
       "<ul style=\"text-align: left; list-style:none; margin: 0; padding: 0;\">\n",
       "  <li><b>Workers: </b>0</li>\n",
       "  <li><b>Cores: </b>0</li>\n",
       "  <li><b>Memory: </b>0 B</li>\n",
       "</ul>\n",
       "</td>\n",
       "</tr>\n",
       "</table>"
      ],
      "text/plain": [
       "<Client: 'tcp://10.100.8.11:35574' processes=0 threads=0, memory=0 B>"
      ]
     },
     "execution_count": 14,
     "metadata": {},
     "output_type": "execute_result"
    }
   ],
   "source": [
    "client"
   ]
  },
  {
   "cell_type": "code",
   "execution_count": 17,
   "id": "discrete-possibility",
   "metadata": {},
   "outputs": [],
   "source": [
    "raw_path=\"/home/au643300/DataHandling/data/raw/\"\n"
   ]
  },
  {
   "cell_type": "code",
   "execution_count": 27,
   "id": "defined-weight",
   "metadata": {},
   "outputs": [],
   "source": [
    "filelist=glob.glob(raw_path+'*.u')\n",
    "file_path=[]\n",
    "\n",
    "for path in filelist:\n",
    "    file_path.append(os.readlink(path))\n"
   ]
  },
  {
   "cell_type": "markdown",
   "id": "iraqi-trading",
   "metadata": {},
   "source": [
    "forkorter lige filelist ned til 30 stk"
   ]
  },
  {
   "cell_type": "code",
   "execution_count": 28,
   "id": "driven-survey",
   "metadata": {},
   "outputs": [
    {
     "data": {
      "text/plain": [
       "30"
      ]
     },
     "execution_count": 28,
     "metadata": {},
     "output_type": "execute_result"
    }
   ],
   "source": [
    "file_path=file_path[0:30]\n",
    "len(file_path)"
   ]
  },
  {
   "cell_type": "code",
   "execution_count": null,
   "id": "disciplinary-darkness",
   "metadata": {},
   "outputs": [],
   "source": [
    "a=client.map(to_netcdf,filelist,retries=3,resources={'mem':5},batch_size=20)\n",
    "\n",
    "fire_and_forget(a)"
   ]
  }
 ],
 "metadata": {
  "kernelspec": {
   "display_name": "Python 3",
   "language": "python",
   "name": "python3"
  },
  "language_info": {
   "codemirror_mode": {
    "name": "ipython",
    "version": 3
   },
   "file_extension": ".py",
   "mimetype": "text/x-python",
   "name": "python",
   "nbconvert_exporter": "python",
   "pygments_lexer": "ipython3",
   "version": "3.8.8"
  }
 },
 "nbformat": 4,
 "nbformat_minor": 5
}
