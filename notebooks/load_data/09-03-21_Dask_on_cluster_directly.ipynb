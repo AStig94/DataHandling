{
 "cells": [
  {
   "cell_type": "markdown",
   "id": "inclusive-premises",
   "metadata": {},
   "source": [
    "Så prøver vi en gang til at få det her shizzle til at virke. Først alle import"
   ]
  },
  {
   "cell_type": "code",
   "execution_count": 2,
   "id": "framed-gardening",
   "metadata": {},
   "outputs": [],
   "source": [
    "import os\n",
    "import sys"
   ]
  },
  {
   "cell_type": "code",
   "execution_count": 3,
   "id": "brilliant-router",
   "metadata": {},
   "outputs": [],
   "source": [
    "os.chdir('/home/au643300/DataHandling/')"
   ]
  },
  {
   "cell_type": "markdown",
   "id": "turned-tender",
   "metadata": {},
   "source": [
    "Sætter Datahandling in i min syspath"
   ]
  },
  {
   "cell_type": "code",
   "execution_count": 4,
   "id": "alternate-wallet",
   "metadata": {},
   "outputs": [],
   "source": [
    "sys.path.append('/home/au643300/DataHandling/')"
   ]
  },
  {
   "cell_type": "code",
   "execution_count": 5,
   "id": "metallic-pattern",
   "metadata": {},
   "outputs": [],
   "source": [
    "from dask_jobqueue import SLURMCluster\n",
    "from dask.distributed import Client, as_completed\n",
    "import glob\n",
    "from src.data.tonetCDF import to_netcdf\n",
    "import xarray as xr"
   ]
  },
  {
   "cell_type": "code",
   "execution_count": 6,
   "outputs": [],
   "source": [
    "def save_func(xarray,filename):\n",
    "    import xarray as xr\n",
    "    save_path = \"/home/au643300/NOBACKUP/interim/\"\n",
    "    xarray.to_netcdf(save_path + filename+ 'nc', engine='netcdf4')\n"
   ],
   "metadata": {
    "collapsed": false,
    "pycharm": {
     "name": "#%%\n"
    }
   }
  },
  {
   "cell_type": "markdown",
   "id": "junior-persian",
   "metadata": {},
   "source": [
    "starter cluster op"
   ]
  },
  {
   "cell_type": "code",
   "execution_count": 7,
   "id": "blind-blast",
   "metadata": {},
   "outputs": [],
   "source": [
    "cluster=SLURMCluster(cores=4,\n",
    "                     processes=1,\n",
    "                     memory=\"22GiB\",\n",
    "                     queue='q64',\n",
    "                     walltime='0-00:30:00',\n",
    "                     local_directory='/scratch/$SLURM_JOB_ID',\n",
    "                     interface='ib0',\n",
    "                     extra=['--resources mem=15']\n",
    "                    )\n",
    "                    "
   ]
  },
  {
   "cell_type": "code",
   "execution_count": 8,
   "id": "stretch-light",
   "metadata": {},
   "outputs": [],
   "source": [
    "client=Client(cluster)"
   ]
  },
  {
   "cell_type": "code",
   "execution_count": 9,
   "id": "induced-brand",
   "metadata": {},
   "outputs": [
    {
     "data": {
      "text/plain": "<distributed.deploy.adaptive.Adaptive at 0x7f6f483ee490>"
     },
     "execution_count": 9,
     "metadata": {},
     "output_type": "execute_result"
    }
   ],
   "source": [
    "cluster.adapt(minimum_jobs=1,maximum_jobs=5)"
   ]
  },
  {
   "cell_type": "code",
   "execution_count": 10,
   "id": "other-cheese",
   "metadata": {},
   "outputs": [
    {
     "data": {
      "text/plain": "<Client: 'tcp://10.100.8.14:36722' processes=0 threads=0, memory=0 B>",
      "text/html": "<table style=\"border: 2px solid white;\">\n<tr>\n<td style=\"vertical-align: top; border: 0px solid white\">\n<h3 style=\"text-align: left;\">Client</h3>\n<ul style=\"text-align: left; list-style: none; margin: 0; padding: 0;\">\n  <li><b>Scheduler: </b>tcp://10.100.8.14:36722</li>\n  <li><b>Dashboard: </b><a href='http://10.100.8.14:8787/status' target='_blank'>http://10.100.8.14:8787/status</a></li>\n</ul>\n</td>\n<td style=\"vertical-align: top; border: 0px solid white\">\n<h3 style=\"text-align: left;\">Cluster</h3>\n<ul style=\"text-align: left; list-style:none; margin: 0; padding: 0;\">\n  <li><b>Workers: </b>0</li>\n  <li><b>Cores: </b>0</li>\n  <li><b>Memory: </b>0 B</li>\n</ul>\n</td>\n</tr>\n</table>"
     },
     "execution_count": 10,
     "metadata": {},
     "output_type": "execute_result"
    }
   ],
   "source": [
    "client"
   ]
  },
  {
   "cell_type": "markdown",
   "source": [
    "Deleting the files smaller than 500 mb, as they are defect"
   ],
   "metadata": {
    "collapsed": false,
    "pycharm": {
     "name": "#%% md\n"
    }
   }
  },
  {
   "cell_type": "code",
   "execution_count": 11,
   "id": "bulgarian-deputy",
   "metadata": {},
   "outputs": [],
   "source": [
    "raw_path=\"/home/au643300/DataHandling/data/raw/\"\n",
    "files_raw=glob.glob(raw_path+'*.u')\n",
    "\n",
    "interim_path=\"/home/au643300/NOBACKUP/interim/\"\n",
    "files_interim=glob.glob(interim_path+'*.nc')\n",
    "for file in files_interim:\n",
    "    size=os.path.getsize(file)\n",
    "    if size < 500000000:\n",
    "        os.remove(file)\n",
    "\n"
   ]
  },
  {
   "cell_type": "markdown",
   "source": [
    "Now finding the missing files\n"
   ],
   "metadata": {
    "collapsed": false,
    "pycharm": {
     "name": "#%% md\n"
    }
   }
  },
  {
   "cell_type": "code",
   "execution_count": 12,
   "id": "impossible-prototype",
   "metadata": {},
   "outputs": [],
   "source": [
    "file_only_interim=[]\n",
    "file_only_raw=[]\n",
    "for file in files_interim:\n",
    "    a=os.path.basename(file)\n",
    "    a=a[:-3]\n",
    "    file_only_interim.append(a)\n",
    "for file in files_raw:\n",
    "    b=os.path.basename(file)\n",
    "    b=b[:-2]\n",
    "    file_only_raw.append(b)\n",
    "\n",
    "del a,b\n",
    "\n",
    "\n",
    "\n",
    "\n",
    "diff=list(set(file_only_interim)^set(file_only_raw))"
   ]
  },
  {
   "cell_type": "code",
   "execution_count": 13,
   "id": "printable-taylor",
   "metadata": {},
   "outputs": [],
   "source": [
    "sym_path=[]\n",
    "for name in diff:\n",
    "    sym_path.append(\"/home/au643300/DataHandling/data/raw/\"+name+'.u')\n",
    "\n",
    "file_path=[]\n",
    "for path in sym_path:\n",
    "    file_path.append(os.readlink(path))\n",
    "\n",
    "\n",
    "\n"
   ]
  },
  {
   "cell_type": "code",
   "execution_count": null,
   "id": "chubby-chest",
   "metadata": {
    "pycharm": {
     "name": "#%%\n",
     "is_executing": true
    }
   },
   "outputs": [],
   "source": [
    "ds=client.map(to_netcdf,file_path,resources={'mem': 5},retries=5)\n",
    "\n",
    "for future,result in as_completed(ds, with_results=True):\n",
    "    ds,file = result\n",
    "    ds.to_netcdf(interim_path + file+ 'nc', engine='netcdf4')\n",
    "\n",
    "\n",
    "\n"
   ]
  },
  {
   "cell_type": "code",
   "execution_count": null,
   "outputs": [],
   "source": [],
   "metadata": {
    "collapsed": false,
    "pycharm": {
     "name": "#%%\n"
    }
   }
  }
 ],
 "metadata": {
  "kernelspec": {
   "name": "python3",
   "language": "python",
   "display_name": "Python 3"
  },
  "language_info": {
   "codemirror_mode": {
    "name": "ipython",
    "version": 3
   },
   "file_extension": ".py",
   "mimetype": "text/x-python",
   "name": "python",
   "nbconvert_exporter": "python",
   "pygments_lexer": "ipython3",
   "version": "3.8.8"
  }
 },
 "nbformat": 4,
 "nbformat_minor": 5
}