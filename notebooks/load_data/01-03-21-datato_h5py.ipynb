{
 "cells": [
  {
   "cell_type": "markdown",
   "id": "educated-darkness",
   "metadata": {},
   "source": [
    "# test af både jupter og det med at importere ting som jeg har tænkt mig\n",
    "\n",
    "TODO:\n",
    "Fundet ud af hvad jeg gør med xF og de andre for at forkorte dem(måske ændre i read binary?)"
   ]
  },
  {
   "cell_type": "code",
   "execution_count": 1,
   "outputs": [],
   "source": [
    "from data.read_binary import readDNSdata\n",
    "import os\n",
    "import dask.array as da\n",
    "import dask\n",
    "from dask.distributed import Client\n",
    "import xarray as xr\n",
    "\n",
    "raw_path=\"../data/raw/\"\n",
    "iterim_path='../data/interim/'\n",
    "\n",
    "\n",
    "filelist = os.listdir(raw_path)\n",
    "filelist=sorted(filelist)\n",
    "client = Client()\n"
   ],
   "metadata": {
    "collapsed": false,
    "pycharm": {
     "name": "#%%\n"
    }
   }
  },
  {
   "cell_type": "code",
   "execution_count": 2,
   "outputs": [],
   "source": [
    "for i in range(3):\n",
    "    filelist[i]=raw_path+filelist[i]\n"
   ],
   "metadata": {
    "collapsed": false,
    "pycharm": {
     "name": "#%%\n"
    }
   }
  },
  {
   "cell_type": "code",
   "execution_count": 3,
   "outputs": [],
   "source": [
    "x=client.map(readDNSdata,filelist)\n"
   ],
   "metadata": {
    "collapsed": false,
    "pycharm": {
     "name": "#%%\n"
    }
   }
  },
  {
   "cell_type": "code",
   "execution_count": 7,
   "outputs": [],
   "source": [
    "quantities, quanList, xF, yF, zF, length, storl, paraString = x[0].result()"
   ],
   "metadata": {
    "collapsed": false,
    "pycharm": {
     "name": "#%%\n"
    }
   }
  },
  {
   "cell_type": "code",
   "execution_count": 8,
   "outputs": [],
   "source": [
    "xF=xF[:-1]\n",
    "zF=zF[:-1]\n",
    "ds=xr.Dataset(\n",
    "    {\n",
    "        \"u_vel\": (['x','y','z'],quantities[0]),\n",
    "        \"v_vel\": (['x','y','z'],quantities[1]),\n",
    "        \"w_vel\": (['x','y','z'],quantities[2]),\n",
    "        \"pr1\": (['x','y','z'],quantities[3]),\n",
    "        \"pr0.71\": (['x','y','z'],quantities[4]),\n",
    "        \"pr0.2\": (['x','y','z'],quantities[5]),\n",
    "        \"pr0.025\": (['x','y','z'],quantities[6]),\n",
    "    },\n",
    "    coords={\n",
    "        \"x\":([\"x\"],xF),\n",
    "        \"y\":([\"y\"],yF),\n",
    "        \"z\":([\"z\"],zF),\n",
    "        \"time\":length[2],\n",
    "    },\n",
    "\n",
    ").chunk(1000000)"
   ],
   "metadata": {
    "collapsed": false,
    "pycharm": {
     "name": "#%%\n"
    }
   }
  },
  {
   "cell_type": "markdown",
   "source": [
    "først loader jeg lige en enkelt ind så jeg bedre kan holde styr på det hele."
   ],
   "metadata": {
    "collapsed": false,
    "pycharm": {
     "name": "#%% md\n"
    }
   }
  },
  {
   "cell_type": "code",
   "execution_count": 3,
   "outputs": [],
   "source": [
    "quantities, quanList, xF, yF, zF, length, storl, paraString =da.from_array(readDNSdata('../data/raw/field.0494.u'),chunks=10000)\n"
   ],
   "metadata": {
    "collapsed": false,
    "pycharm": {
     "name": "#%%\n"
    }
   }
  },
  {
   "cell_type": "code",
   "execution_count": 14,
   "outputs": [],
   "source": [
    "a=quantities[0].dtype\n",
    "b=quantities[0].shape"
   ],
   "metadata": {
    "collapsed": false,
    "pycharm": {
     "name": "#%%\n"
    }
   }
  },
  {
   "cell_type": "markdown",
   "source": [
    "xF og zF er 1 kortere end resten. Fjerner den første værdi, og indlæser i et xarray"
   ],
   "metadata": {
    "collapsed": false,
    "pycharm": {
     "name": "#%% md\n"
    }
   }
  },
  {
   "cell_type": "code",
   "execution_count": 21,
   "outputs": [],
   "source": [
    "xF=xF[1:]\n",
    "zF=zF[1:]"
   ],
   "metadata": {
    "collapsed": false,
    "pycharm": {
     "name": "#%%\n"
    }
   }
  },
  {
   "cell_type": "code",
   "execution_count": 22,
   "outputs": [],
   "source": [
    "ds=xr.Dataset(\n",
    "    {\n",
    "        \"u_vel\": (['x','y','z'],quantities[0]),\n",
    "        \"v_vel\": (['x','y','z'],quantities[1]),\n",
    "        \"w_vel\": (['x','y','z'],quantities[2]),\n",
    "        \"pr1\": (['x','y','z'],quantities[3]),\n",
    "        \"pr0.71\": (['x','y','z'],quantities[4]),\n",
    "        \"pr0.2\": (['x','y','z'],quantities[5]),\n",
    "        \"pr0.025\": (['x','y','z'],quantities[6]),\n",
    "    },\n",
    "    coords={\n",
    "        \"x\":([\"x\"],xF),\n",
    "        \"y\":([\"y\"],yF),\n",
    "        \"z\":([\"z\"],zF),\n",
    "        \"time\":length[2],\n",
    "    },\n",
    "\n",
    ").chunk(1000)\n",
    "\n",
    "\n"
   ],
   "metadata": {
    "collapsed": false,
    "pycharm": {
     "name": "#%%\n"
    }
   }
  },
  {
   "cell_type": "markdown",
   "source": [
    "gemmer den som dens filnavn"
   ],
   "metadata": {
    "collapsed": false,
    "pycharm": {
     "name": "#%% md\n"
    }
   }
  },
  {
   "cell_type": "code",
   "execution_count": 23,
   "outputs": [],
   "source": [
    "ds.to_netcdf('field.0494.nc')\n"
   ],
   "metadata": {
    "collapsed": false,
    "pycharm": {
     "name": "#%%\n"
    }
   }
  },
  {
   "cell_type": "markdown",
   "source": [
    "Nu prøver jeg så at bruge dask delayed til at læse alle filerne ind og derefter gemme dem som dask/xarray. Derefter\n",
    "skal de så gemmes ned på harddisken....\n",
    "https://docs.dask.org/en/latest/array-creation.html\n"
   ],
   "metadata": {
    "collapsed": false
   }
  },
  {
   "cell_type": "code",
   "execution_count": 24,
   "outputs": [],
   "source": [
    "quantities, quanList, xF, yF, zF, length, storl, paraString =dask.delayed(readDNSdata,nout=8)('../data/raw/field.0494.u')\n"
   ],
   "metadata": {
    "collapsed": false,
    "pycharm": {
     "name": "#%%\n"
    }
   }
  },
  {
   "cell_type": "code",
   "execution_count": 25,
   "outputs": [],
   "source": [
    "xF=da.from_delayed(xF,(257,),dtype='float64')\n",
    "xF=xF[:-1]"
   ],
   "metadata": {
    "collapsed": false,
    "pycharm": {
     "name": "#%%\n"
    }
   }
  },
  {
   "cell_type": "code",
   "execution_count": 9,
   "outputs": [
    {
     "ename": "ValueError",
     "evalue": "Could not convert tuple of form (dims, data[, attrs, encoding]): (['time'], Delayed('getitem-6c26ffa6f36358cd1c8d57cb41451102')) to Variable.",
     "output_type": "error",
     "traceback": [
      "\u001B[1;31m---------------------------------------------------------------------------\u001B[0m",
      "\u001B[1;31mValueError\u001B[0m                                Traceback (most recent call last)",
      "\u001B[1;32m~\\anaconda3\\lib\\site-packages\\xarray\\core\\variable.py\u001B[0m in \u001B[0;36mas_variable\u001B[1;34m(obj, name)\u001B[0m\n\u001B[0;32m    133\u001B[0m         \u001B[1;32mtry\u001B[0m\u001B[1;33m:\u001B[0m\u001B[1;33m\u001B[0m\u001B[1;33m\u001B[0m\u001B[0m\n\u001B[1;32m--> 134\u001B[1;33m             \u001B[0mobj\u001B[0m \u001B[1;33m=\u001B[0m \u001B[0mVariable\u001B[0m\u001B[1;33m(\u001B[0m\u001B[1;33m*\u001B[0m\u001B[0mobj\u001B[0m\u001B[1;33m)\u001B[0m\u001B[1;33m\u001B[0m\u001B[1;33m\u001B[0m\u001B[0m\n\u001B[0m\u001B[0;32m    135\u001B[0m         \u001B[1;32mexcept\u001B[0m \u001B[1;33m(\u001B[0m\u001B[0mTypeError\u001B[0m\u001B[1;33m,\u001B[0m \u001B[0mValueError\u001B[0m\u001B[1;33m)\u001B[0m \u001B[1;32mas\u001B[0m \u001B[0merror\u001B[0m\u001B[1;33m:\u001B[0m\u001B[1;33m\u001B[0m\u001B[1;33m\u001B[0m\u001B[0m\n",
      "\u001B[1;32m~\\anaconda3\\lib\\site-packages\\xarray\\core\\variable.py\u001B[0m in \u001B[0;36m__init__\u001B[1;34m(self, dims, data, attrs, encoding, fastpath)\u001B[0m\n\u001B[0;32m    341\u001B[0m         \u001B[0mself\u001B[0m\u001B[1;33m.\u001B[0m\u001B[0m_data\u001B[0m \u001B[1;33m=\u001B[0m \u001B[0mas_compatible_data\u001B[0m\u001B[1;33m(\u001B[0m\u001B[0mdata\u001B[0m\u001B[1;33m,\u001B[0m \u001B[0mfastpath\u001B[0m\u001B[1;33m=\u001B[0m\u001B[0mfastpath\u001B[0m\u001B[1;33m)\u001B[0m\u001B[1;33m\u001B[0m\u001B[1;33m\u001B[0m\u001B[0m\n\u001B[1;32m--> 342\u001B[1;33m         \u001B[0mself\u001B[0m\u001B[1;33m.\u001B[0m\u001B[0m_dims\u001B[0m \u001B[1;33m=\u001B[0m \u001B[0mself\u001B[0m\u001B[1;33m.\u001B[0m\u001B[0m_parse_dimensions\u001B[0m\u001B[1;33m(\u001B[0m\u001B[0mdims\u001B[0m\u001B[1;33m)\u001B[0m\u001B[1;33m\u001B[0m\u001B[1;33m\u001B[0m\u001B[0m\n\u001B[0m\u001B[0;32m    343\u001B[0m         \u001B[0mself\u001B[0m\u001B[1;33m.\u001B[0m\u001B[0m_attrs\u001B[0m \u001B[1;33m=\u001B[0m \u001B[1;32mNone\u001B[0m\u001B[1;33m\u001B[0m\u001B[1;33m\u001B[0m\u001B[0m\n",
      "\u001B[1;32m~\\anaconda3\\lib\\site-packages\\xarray\\core\\variable.py\u001B[0m in \u001B[0;36m_parse_dimensions\u001B[1;34m(self, dims)\u001B[0m\n\u001B[0;32m    602\u001B[0m         \u001B[1;32mif\u001B[0m \u001B[0mlen\u001B[0m\u001B[1;33m(\u001B[0m\u001B[0mdims\u001B[0m\u001B[1;33m)\u001B[0m \u001B[1;33m!=\u001B[0m \u001B[0mself\u001B[0m\u001B[1;33m.\u001B[0m\u001B[0mndim\u001B[0m\u001B[1;33m:\u001B[0m\u001B[1;33m\u001B[0m\u001B[1;33m\u001B[0m\u001B[0m\n\u001B[1;32m--> 603\u001B[1;33m             raise ValueError(\n\u001B[0m\u001B[0;32m    604\u001B[0m                 \u001B[1;34m\"dimensions %s must have the same length as the \"\u001B[0m\u001B[1;33m\u001B[0m\u001B[1;33m\u001B[0m\u001B[0m\n",
      "\u001B[1;31mValueError\u001B[0m: dimensions ('time',) must have the same length as the number of data dimensions, ndim=0",
      "\nDuring handling of the above exception, another exception occurred:\n",
      "\u001B[1;31mValueError\u001B[0m                                Traceback (most recent call last)",
      "\u001B[1;32m<ipython-input-9-e3348569e7f5>\u001B[0m in \u001B[0;36m<module>\u001B[1;34m\u001B[0m\n\u001B[0;32m     17\u001B[0m \u001B[1;33m\u001B[0m\u001B[0m\n\u001B[0;32m     18\u001B[0m     \u001B[1;31m#saving in a xarray\u001B[0m\u001B[1;33m\u001B[0m\u001B[1;33m\u001B[0m\u001B[1;33m\u001B[0m\u001B[0m\n\u001B[1;32m---> 19\u001B[1;33m ds=xr.Dataset(\n\u001B[0m\u001B[0;32m     20\u001B[0m     {\n\u001B[0;32m     21\u001B[0m         \u001B[1;34m\"u_vel\"\u001B[0m\u001B[1;33m:\u001B[0m \u001B[1;33m(\u001B[0m\u001B[1;33m[\u001B[0m\u001B[1;34m'x'\u001B[0m\u001B[1;33m,\u001B[0m\u001B[1;34m'y'\u001B[0m\u001B[1;33m,\u001B[0m\u001B[1;34m'z'\u001B[0m\u001B[1;33m]\u001B[0m\u001B[1;33m,\u001B[0m\u001B[0mutemp\u001B[0m\u001B[1;33m)\u001B[0m\u001B[1;33m,\u001B[0m\u001B[1;33m\u001B[0m\u001B[1;33m\u001B[0m\u001B[0m\n",
      "\u001B[1;32m~\\anaconda3\\lib\\site-packages\\xarray\\core\\dataset.py\u001B[0m in \u001B[0;36m__init__\u001B[1;34m(self, data_vars, coords, attrs)\u001B[0m\n\u001B[0;32m    685\u001B[0m             \u001B[0mcoords\u001B[0m \u001B[1;33m=\u001B[0m \u001B[0mcoords\u001B[0m\u001B[1;33m.\u001B[0m\u001B[0mvariables\u001B[0m\u001B[1;33m\u001B[0m\u001B[1;33m\u001B[0m\u001B[0m\n\u001B[0;32m    686\u001B[0m \u001B[1;33m\u001B[0m\u001B[0m\n\u001B[1;32m--> 687\u001B[1;33m         variables, coord_names, dims, indexes, _ = merge_data_and_coords(\n\u001B[0m\u001B[0;32m    688\u001B[0m             \u001B[0mdata_vars\u001B[0m\u001B[1;33m,\u001B[0m \u001B[0mcoords\u001B[0m\u001B[1;33m,\u001B[0m \u001B[0mcompat\u001B[0m\u001B[1;33m=\u001B[0m\u001B[1;34m\"broadcast_equals\"\u001B[0m\u001B[1;33m\u001B[0m\u001B[1;33m\u001B[0m\u001B[0m\n\u001B[0;32m    689\u001B[0m         )\n",
      "\u001B[1;32m~\\anaconda3\\lib\\site-packages\\xarray\\core\\merge.py\u001B[0m in \u001B[0;36mmerge_data_and_coords\u001B[1;34m(data, coords, compat, join)\u001B[0m\n\u001B[0;32m    464\u001B[0m     \u001B[0mobjects\u001B[0m \u001B[1;33m=\u001B[0m \u001B[1;33m[\u001B[0m\u001B[0mdata\u001B[0m\u001B[1;33m,\u001B[0m \u001B[0mcoords\u001B[0m\u001B[1;33m]\u001B[0m\u001B[1;33m\u001B[0m\u001B[1;33m\u001B[0m\u001B[0m\n\u001B[0;32m    465\u001B[0m     \u001B[0mexplicit_coords\u001B[0m \u001B[1;33m=\u001B[0m \u001B[0mcoords\u001B[0m\u001B[1;33m.\u001B[0m\u001B[0mkeys\u001B[0m\u001B[1;33m(\u001B[0m\u001B[1;33m)\u001B[0m\u001B[1;33m\u001B[0m\u001B[1;33m\u001B[0m\u001B[0m\n\u001B[1;32m--> 466\u001B[1;33m     \u001B[0mindexes\u001B[0m \u001B[1;33m=\u001B[0m \u001B[0mdict\u001B[0m\u001B[1;33m(\u001B[0m\u001B[0m_extract_indexes_from_coords\u001B[0m\u001B[1;33m(\u001B[0m\u001B[0mcoords\u001B[0m\u001B[1;33m)\u001B[0m\u001B[1;33m)\u001B[0m\u001B[1;33m\u001B[0m\u001B[1;33m\u001B[0m\u001B[0m\n\u001B[0m\u001B[0;32m    467\u001B[0m     return merge_core(\n\u001B[0;32m    468\u001B[0m         \u001B[0mobjects\u001B[0m\u001B[1;33m,\u001B[0m \u001B[0mcompat\u001B[0m\u001B[1;33m,\u001B[0m \u001B[0mjoin\u001B[0m\u001B[1;33m,\u001B[0m \u001B[0mexplicit_coords\u001B[0m\u001B[1;33m=\u001B[0m\u001B[0mexplicit_coords\u001B[0m\u001B[1;33m,\u001B[0m \u001B[0mindexes\u001B[0m\u001B[1;33m=\u001B[0m\u001B[0mindexes\u001B[0m\u001B[1;33m\u001B[0m\u001B[1;33m\u001B[0m\u001B[0m\n",
      "\u001B[1;32m~\\anaconda3\\lib\\site-packages\\xarray\\core\\merge.py\u001B[0m in \u001B[0;36m_extract_indexes_from_coords\u001B[1;34m(coords)\u001B[0m\n\u001B[0;32m    473\u001B[0m     \u001B[1;34m\"\"\"Yields the name & index of valid indexes from a mapping of coords\"\"\"\u001B[0m\u001B[1;33m\u001B[0m\u001B[1;33m\u001B[0m\u001B[0m\n\u001B[0;32m    474\u001B[0m     \u001B[1;32mfor\u001B[0m \u001B[0mname\u001B[0m\u001B[1;33m,\u001B[0m \u001B[0mvariable\u001B[0m \u001B[1;32min\u001B[0m \u001B[0mcoords\u001B[0m\u001B[1;33m.\u001B[0m\u001B[0mitems\u001B[0m\u001B[1;33m(\u001B[0m\u001B[1;33m)\u001B[0m\u001B[1;33m:\u001B[0m\u001B[1;33m\u001B[0m\u001B[1;33m\u001B[0m\u001B[0m\n\u001B[1;32m--> 475\u001B[1;33m         \u001B[0mvariable\u001B[0m \u001B[1;33m=\u001B[0m \u001B[0mas_variable\u001B[0m\u001B[1;33m(\u001B[0m\u001B[0mvariable\u001B[0m\u001B[1;33m,\u001B[0m \u001B[0mname\u001B[0m\u001B[1;33m=\u001B[0m\u001B[0mname\u001B[0m\u001B[1;33m)\u001B[0m\u001B[1;33m\u001B[0m\u001B[1;33m\u001B[0m\u001B[0m\n\u001B[0m\u001B[0;32m    476\u001B[0m         \u001B[1;32mif\u001B[0m \u001B[0mvariable\u001B[0m\u001B[1;33m.\u001B[0m\u001B[0mdims\u001B[0m \u001B[1;33m==\u001B[0m \u001B[1;33m(\u001B[0m\u001B[0mname\u001B[0m\u001B[1;33m,\u001B[0m\u001B[1;33m)\u001B[0m\u001B[1;33m:\u001B[0m\u001B[1;33m\u001B[0m\u001B[1;33m\u001B[0m\u001B[0m\n\u001B[0;32m    477\u001B[0m             \u001B[1;32myield\u001B[0m \u001B[0mname\u001B[0m\u001B[1;33m,\u001B[0m \u001B[0mvariable\u001B[0m\u001B[1;33m.\u001B[0m\u001B[0mto_index\u001B[0m\u001B[1;33m(\u001B[0m\u001B[1;33m)\u001B[0m\u001B[1;33m\u001B[0m\u001B[1;33m\u001B[0m\u001B[0m\n",
      "\u001B[1;32m~\\anaconda3\\lib\\site-packages\\xarray\\core\\variable.py\u001B[0m in \u001B[0;36mas_variable\u001B[1;34m(obj, name)\u001B[0m\n\u001B[0;32m    135\u001B[0m         \u001B[1;32mexcept\u001B[0m \u001B[1;33m(\u001B[0m\u001B[0mTypeError\u001B[0m\u001B[1;33m,\u001B[0m \u001B[0mValueError\u001B[0m\u001B[1;33m)\u001B[0m \u001B[1;32mas\u001B[0m \u001B[0merror\u001B[0m\u001B[1;33m:\u001B[0m\u001B[1;33m\u001B[0m\u001B[1;33m\u001B[0m\u001B[0m\n\u001B[0;32m    136\u001B[0m             \u001B[1;31m# use .format() instead of % because it handles tuples consistently\u001B[0m\u001B[1;33m\u001B[0m\u001B[1;33m\u001B[0m\u001B[1;33m\u001B[0m\u001B[0m\n\u001B[1;32m--> 137\u001B[1;33m             raise error.__class__(\n\u001B[0m\u001B[0;32m    138\u001B[0m                 \u001B[1;34m\"Could not convert tuple of form \"\u001B[0m\u001B[1;33m\u001B[0m\u001B[1;33m\u001B[0m\u001B[0m\n\u001B[0;32m    139\u001B[0m                 \u001B[1;34m\"(dims, data[, attrs, encoding]): \"\u001B[0m\u001B[1;33m\u001B[0m\u001B[1;33m\u001B[0m\u001B[0m\n",
      "\u001B[1;31mValueError\u001B[0m: Could not convert tuple of form (dims, data[, attrs, encoding]): (['time'], Delayed('getitem-6c26ffa6f36358cd1c8d57cb41451102')) to Variable."
     ]
    }
   ],
   "source": [
    "\n",
    "utemp=da.from_delayed(quantities[0],(256,201,256),dtype='float64')\n",
    "vtemp=da.from_delayed(quantities[1],(256,201,256),dtype='float64')\n",
    "wtemp=da.from_delayed(quantities[2],(256,201,256),dtype='float64')\n",
    "s1=da.from_delayed(quantities[3],(256,201,256),dtype='float64')\n",
    "s2=da.from_delayed(quantities[4],(256,201,256),dtype='float64')\n",
    "s3=da.from_delayed(quantities[5],(256,201,256),dtype='float64')\n",
    "s4=da.from_delayed(quantities[6],(256,201,256),dtype='float64')\n",
    "\n",
    "\n",
    "    #saving in a xarray\n",
    "ds=xr.Dataset(\n",
    "    {\n",
    "        \"u_vel\": (['x','y','z'],utemp),\n",
    "        \"v_vel\": (['x','y','z'],vtemp),\n",
    "        \"w_vel\": (['x','y','z'],wtemp),\n",
    "        \"pr1\": (['x','y','z'],s1),\n",
    "        \"pr0.71\":(['x','y','z'],s2),\n",
    "        \"pr0.2\": (['x','y','z'],s3),\n",
    "        \"pr0.025\": (['x','y','z'],s4),\n",
    "    },\n",
    "    coords={\n",
    "        \"x\":([\"x\"],xF),\n",
    "        \"y\":([\"y\"],yF),\n",
    "        \"z\":([\"z\"],zF),\n",
    "        \"time\":([\"time\"],length[2]),\n",
    "    },\n",
    "\n",
    ").chunk(1000)\n",
    "\n",
    "ds.to_netcdf(iterim_path+filename[:-1]+'nc')"
   ],
   "metadata": {
    "collapsed": false,
    "pycharm": {
     "name": "#%%\n"
    }
   }
  }
 ],
 "metadata": {
  "kernelspec": {
   "name": "pycharm-17c5fe87",
   "language": "python",
   "display_name": "PyCharm (DataHandling)"
  },
  "language_info": {
   "codemirror_mode": {
    "name": "ipython",
    "version": 3
   },
   "file_extension": ".py",
   "mimetype": "text/x-python",
   "name": "python",
   "nbconvert_exporter": "python",
   "pygments_lexer": "ipython3",
   "version": "3.8.5"
  }
 },
 "nbformat": 4,
 "nbformat_minor": 5
}