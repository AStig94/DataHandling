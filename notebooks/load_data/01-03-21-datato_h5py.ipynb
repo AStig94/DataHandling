{
 "cells": [
  {
   "cell_type": "markdown",
   "id": "connected-perfume",
   "metadata": {},
   "source": [
    "# test af både jupter og det med at importere ting som jeg har tænkt mig\n",
    "\n",
    "TODO:\n",
    "Fundet ud af hvad jeg gør med xF og de andre for at forkorte dem(måske ændre i read binary?)"
   ]
  },
  {
   "cell_type": "code",
   "execution_count": 1,
   "id": "curious-estate",
   "metadata": {
    "collapsed": false,
    "jupyter": {
     "outputs_hidden": false
    },
    "pycharm": {
     "name": "#%%\n"
    }
   },
   "outputs": [],
   "source": [
    "from data.read_binary import readDNSdata\n",
    "import os\n",
    "import dask.array as da\n",
    "import dask\n",
    "from dask.distributed import Client\n",
    "import xarray as xr\n",
    "\n",
    "raw_path=\"../data/raw/\"\n",
    "iterim_path='../data/interim/'\n",
    "\n",
    "\n",
    "filelist = os.listdir(raw_path)\n",
    "filelist=sorted(filelist)\n",
    "client = Client()\n"
   ]
  },
  {
   "cell_type": "code",
   "execution_count": 2,
   "id": "hungry-moscow",
   "metadata": {
    "collapsed": false,
    "jupyter": {
     "outputs_hidden": false
    },
    "pycharm": {
     "name": "#%%\n"
    }
   },
   "outputs": [],
   "source": [
    "for i in range(3):\n",
    "    filelist[i]=raw_path+filelist[i]\n"
   ]
  },
  {
   "cell_type": "code",
   "execution_count": 3,
   "id": "thermal-progressive",
   "metadata": {
    "collapsed": false,
    "jupyter": {
     "outputs_hidden": false
    },
    "pycharm": {
     "name": "#%%\n"
    }
   },
   "outputs": [],
   "source": [
    "x=client.map(readDNSdata,filelist)\n"
   ]
  },
  {
   "cell_type": "code",
   "execution_count": 7,
   "id": "square-jungle",
   "metadata": {
    "collapsed": false,
    "jupyter": {
     "outputs_hidden": false
    },
    "pycharm": {
     "name": "#%%\n"
    }
   },
   "outputs": [],
   "source": [
    "quantities, quanList, xF, yF, zF, length, storl, paraString = x[0].result()"
   ]
  },
  {
   "cell_type": "code",
   "execution_count": 8,
   "id": "regional-typing",
   "metadata": {
    "collapsed": false,
    "jupyter": {
     "outputs_hidden": false
    },
    "pycharm": {
     "name": "#%%\n"
    }
   },
   "outputs": [],
   "source": [
    "xF=xF[:-1]\n",
    "zF=zF[:-1]\n",
    "ds=xr.Dataset(\n",
    "    {\n",
    "        \"u_vel\": (['x','y','z'],quantities[0]),\n",
    "        \"v_vel\": (['x','y','z'],quantities[1]),\n",
    "        \"w_vel\": (['x','y','z'],quantities[2]),\n",
    "        \"pr1\": (['x','y','z'],quantities[3]),\n",
    "        \"pr0.71\": (['x','y','z'],quantities[4]),\n",
    "        \"pr0.2\": (['x','y','z'],quantities[5]),\n",
    "        \"pr0.025\": (['x','y','z'],quantities[6]),\n",
    "    },\n",
    "    coords={\n",
    "        \"x\":([\"x\"],xF),\n",
    "        \"y\":([\"y\"],yF),\n",
    "        \"z\":([\"z\"],zF),\n",
    "        \"time\":length[2],\n",
    "    },\n",
    "\n",
    ").chunk(1000000)"
   ]
  },
  {
   "cell_type": "markdown",
   "id": "found-grace",
   "metadata": {
    "pycharm": {
     "name": "#%% md\n"
    }
   },
   "source": [
    "først loader jeg lige en enkelt ind så jeg bedre kan holde styr på det hele."
   ]
  },
  {
   "cell_type": "code",
   "execution_count": 3,
   "id": "civic-webster",
   "metadata": {
    "collapsed": false,
    "jupyter": {
     "outputs_hidden": false
    },
    "pycharm": {
     "name": "#%%\n"
    }
   },
   "outputs": [],
   "source": [
    "quantities, quanList, xF, yF, zF, length, storl, paraString =da.from_array(readDNSdata('../data/raw/field.0494.u'),chunks=10000)\n"
   ]
  },
  {
   "cell_type": "code",
   "execution_count": 14,
   "id": "light-transition",
   "metadata": {
    "collapsed": false,
    "jupyter": {
     "outputs_hidden": false
    },
    "pycharm": {
     "name": "#%%\n"
    }
   },
   "outputs": [],
   "source": [
    "a=quantities[0].dtype\n",
    "b=quantities[0].shape"
   ]
  },
  {
   "cell_type": "markdown",
   "id": "moral-holmes",
   "metadata": {
    "pycharm": {
     "name": "#%% md\n"
    }
   },
   "source": [
    "xF og zF er 1 kortere end resten. Fjerner den første værdi, og indlæser i et xarray"
   ]
  },
  {
   "cell_type": "code",
   "execution_count": 21,
   "id": "permanent-landscape",
   "metadata": {
    "collapsed": false,
    "jupyter": {
     "outputs_hidden": false
    },
    "pycharm": {
     "name": "#%%\n"
    }
   },
   "outputs": [],
   "source": [
    "xF=xF[1:]\n",
    "zF=zF[1:]"
   ]
  },
  {
   "cell_type": "code",
   "execution_count": 22,
   "id": "interesting-memphis",
   "metadata": {
    "collapsed": false,
    "jupyter": {
     "outputs_hidden": false
    },
    "pycharm": {
     "name": "#%%\n"
    }
   },
   "outputs": [],
   "source": [
    "ds=xr.Dataset(\n",
    "    {\n",
    "        \"u_vel\": (['x','y','z'],quantities[0]),\n",
    "        \"v_vel\": (['x','y','z'],quantities[1]),\n",
    "        \"w_vel\": (['x','y','z'],quantities[2]),\n",
    "        \"pr1\": (['x','y','z'],quantities[3]),\n",
    "        \"pr0.71\": (['x','y','z'],quantities[4]),\n",
    "        \"pr0.2\": (['x','y','z'],quantities[5]),\n",
    "        \"pr0.025\": (['x','y','z'],quantities[6]),\n",
    "    },\n",
    "    coords={\n",
    "        \"x\":([\"x\"],xF),\n",
    "        \"y\":([\"y\"],yF),\n",
    "        \"z\":([\"z\"],zF),\n",
    "        \"time\":length[2],\n",
    "    },\n",
    "\n",
    ").chunk(1000)\n",
    "\n",
    "\n"
   ]
  },
  {
   "cell_type": "markdown",
   "id": "acquired-alloy",
   "metadata": {
    "pycharm": {
     "name": "#%% md\n"
    }
   },
   "source": [
    "gemmer den som dens filnavn"
   ]
  },
  {
   "cell_type": "code",
   "execution_count": 23,
   "id": "happy-dublin",
   "metadata": {
    "collapsed": false,
    "jupyter": {
     "outputs_hidden": false
    },
    "pycharm": {
     "name": "#%%\n"
    }
   },
   "outputs": [],
   "source": [
    "ds.to_netcdf('field.0494.nc')\n"
   ]
  },
  {
   "cell_type": "markdown",
   "id": "maritime-ferry",
   "metadata": {},
   "source": [
    "Nu prøver jeg så at bruge dask delayed til at læse alle filerne ind og derefter gemme dem som dask/xarray. Derefter\n",
    "skal de så gemmes ned på harddisken....\n",
    "https://docs.dask.org/en/latest/array-creation.html\n"
   ]
  },
  {
   "cell_type": "code",
   "execution_count": 24,
   "id": "earlier-response",
   "metadata": {
    "collapsed": false,
    "jupyter": {
     "outputs_hidden": false
    },
    "pycharm": {
     "name": "#%%\n"
    }
   },
   "outputs": [],
   "source": [
    "quantities, quanList, xF, yF, zF, length, storl, paraString =dask.delayed(readDNSdata,nout=8)('../data/raw/field.0494.u')\n"
   ]
  },
  {
   "cell_type": "code",
   "execution_count": 25,
   "id": "considered-encoding",
   "metadata": {
    "collapsed": false,
    "jupyter": {
     "outputs_hidden": false
    },
    "pycharm": {
     "name": "#%%\n"
    }
   },
   "outputs": [],
   "source": [
    "xF=da.from_delayed(xF,(257,),dtype='float64')\n",
    "xF=xF[:-1]"
   ]
  },
  {
   "cell_type": "code",
   "execution_count": 9,
   "id": "broken-amazon",
   "metadata": {
    "collapsed": false,
    "jupyter": {
     "outputs_hidden": false
    },
    "pycharm": {
     "name": "#%%\n"
    }
   },
   "outputs": [
    {
     "ename": "ValueError",
     "evalue": "Could not convert tuple of form (dims, data[, attrs, encoding]): (['time'], Delayed('getitem-6c26ffa6f36358cd1c8d57cb41451102')) to Variable.",
     "output_type": "error",
     "traceback": [
      "\u001b[1;31m---------------------------------------------------------------------------\u001b[0m",
      "\u001b[1;31mValueError\u001b[0m                                Traceback (most recent call last)",
      "\u001b[1;32m~\\anaconda3\\lib\\site-packages\\xarray\\core\\variable.py\u001b[0m in \u001b[0;36mas_variable\u001b[1;34m(obj, name)\u001b[0m\n\u001b[0;32m    133\u001b[0m         \u001b[1;32mtry\u001b[0m\u001b[1;33m:\u001b[0m\u001b[1;33m\u001b[0m\u001b[1;33m\u001b[0m\u001b[0m\n\u001b[1;32m--> 134\u001b[1;33m             \u001b[0mobj\u001b[0m \u001b[1;33m=\u001b[0m \u001b[0mVariable\u001b[0m\u001b[1;33m(\u001b[0m\u001b[1;33m*\u001b[0m\u001b[0mobj\u001b[0m\u001b[1;33m)\u001b[0m\u001b[1;33m\u001b[0m\u001b[1;33m\u001b[0m\u001b[0m\n\u001b[0m\u001b[0;32m    135\u001b[0m         \u001b[1;32mexcept\u001b[0m \u001b[1;33m(\u001b[0m\u001b[0mTypeError\u001b[0m\u001b[1;33m,\u001b[0m \u001b[0mValueError\u001b[0m\u001b[1;33m)\u001b[0m \u001b[1;32mas\u001b[0m \u001b[0merror\u001b[0m\u001b[1;33m:\u001b[0m\u001b[1;33m\u001b[0m\u001b[1;33m\u001b[0m\u001b[0m\n",
      "\u001b[1;32m~\\anaconda3\\lib\\site-packages\\xarray\\core\\variable.py\u001b[0m in \u001b[0;36m__init__\u001b[1;34m(self, dims, data, attrs, encoding, fastpath)\u001b[0m\n\u001b[0;32m    341\u001b[0m         \u001b[0mself\u001b[0m\u001b[1;33m.\u001b[0m\u001b[0m_data\u001b[0m \u001b[1;33m=\u001b[0m \u001b[0mas_compatible_data\u001b[0m\u001b[1;33m(\u001b[0m\u001b[0mdata\u001b[0m\u001b[1;33m,\u001b[0m \u001b[0mfastpath\u001b[0m\u001b[1;33m=\u001b[0m\u001b[0mfastpath\u001b[0m\u001b[1;33m)\u001b[0m\u001b[1;33m\u001b[0m\u001b[1;33m\u001b[0m\u001b[0m\n\u001b[1;32m--> 342\u001b[1;33m         \u001b[0mself\u001b[0m\u001b[1;33m.\u001b[0m\u001b[0m_dims\u001b[0m \u001b[1;33m=\u001b[0m \u001b[0mself\u001b[0m\u001b[1;33m.\u001b[0m\u001b[0m_parse_dimensions\u001b[0m\u001b[1;33m(\u001b[0m\u001b[0mdims\u001b[0m\u001b[1;33m)\u001b[0m\u001b[1;33m\u001b[0m\u001b[1;33m\u001b[0m\u001b[0m\n\u001b[0m\u001b[0;32m    343\u001b[0m         \u001b[0mself\u001b[0m\u001b[1;33m.\u001b[0m\u001b[0m_attrs\u001b[0m \u001b[1;33m=\u001b[0m \u001b[1;32mNone\u001b[0m\u001b[1;33m\u001b[0m\u001b[1;33m\u001b[0m\u001b[0m\n",
      "\u001b[1;32m~\\anaconda3\\lib\\site-packages\\xarray\\core\\variable.py\u001b[0m in \u001b[0;36m_parse_dimensions\u001b[1;34m(self, dims)\u001b[0m\n\u001b[0;32m    602\u001b[0m         \u001b[1;32mif\u001b[0m \u001b[0mlen\u001b[0m\u001b[1;33m(\u001b[0m\u001b[0mdims\u001b[0m\u001b[1;33m)\u001b[0m \u001b[1;33m!=\u001b[0m \u001b[0mself\u001b[0m\u001b[1;33m.\u001b[0m\u001b[0mndim\u001b[0m\u001b[1;33m:\u001b[0m\u001b[1;33m\u001b[0m\u001b[1;33m\u001b[0m\u001b[0m\n\u001b[1;32m--> 603\u001b[1;33m             raise ValueError(\n\u001b[0m\u001b[0;32m    604\u001b[0m                 \u001b[1;34m\"dimensions %s must have the same length as the \"\u001b[0m\u001b[1;33m\u001b[0m\u001b[1;33m\u001b[0m\u001b[0m\n",
      "\u001b[1;31mValueError\u001b[0m: dimensions ('time',) must have the same length as the number of data dimensions, ndim=0",
      "\nDuring handling of the above exception, another exception occurred:\n",
      "\u001b[1;31mValueError\u001b[0m                                Traceback (most recent call last)",
      "\u001b[1;32m<ipython-input-9-e3348569e7f5>\u001b[0m in \u001b[0;36m<module>\u001b[1;34m\u001b[0m\n\u001b[0;32m     17\u001b[0m \u001b[1;33m\u001b[0m\u001b[0m\n\u001b[0;32m     18\u001b[0m     \u001b[1;31m#saving in a xarray\u001b[0m\u001b[1;33m\u001b[0m\u001b[1;33m\u001b[0m\u001b[1;33m\u001b[0m\u001b[0m\n\u001b[1;32m---> 19\u001b[1;33m ds=xr.Dataset(\n\u001b[0m\u001b[0;32m     20\u001b[0m     {\n\u001b[0;32m     21\u001b[0m         \u001b[1;34m\"u_vel\"\u001b[0m\u001b[1;33m:\u001b[0m \u001b[1;33m(\u001b[0m\u001b[1;33m[\u001b[0m\u001b[1;34m'x'\u001b[0m\u001b[1;33m,\u001b[0m\u001b[1;34m'y'\u001b[0m\u001b[1;33m,\u001b[0m\u001b[1;34m'z'\u001b[0m\u001b[1;33m]\u001b[0m\u001b[1;33m,\u001b[0m\u001b[0mutemp\u001b[0m\u001b[1;33m)\u001b[0m\u001b[1;33m,\u001b[0m\u001b[1;33m\u001b[0m\u001b[1;33m\u001b[0m\u001b[0m\n",
      "\u001b[1;32m~\\anaconda3\\lib\\site-packages\\xarray\\core\\dataset.py\u001b[0m in \u001b[0;36m__init__\u001b[1;34m(self, data_vars, coords, attrs)\u001b[0m\n\u001b[0;32m    685\u001b[0m             \u001b[0mcoords\u001b[0m \u001b[1;33m=\u001b[0m \u001b[0mcoords\u001b[0m\u001b[1;33m.\u001b[0m\u001b[0mvariables\u001b[0m\u001b[1;33m\u001b[0m\u001b[1;33m\u001b[0m\u001b[0m\n\u001b[0;32m    686\u001b[0m \u001b[1;33m\u001b[0m\u001b[0m\n\u001b[1;32m--> 687\u001b[1;33m         variables, coord_names, dims, indexes, _ = merge_data_and_coords(\n\u001b[0m\u001b[0;32m    688\u001b[0m             \u001b[0mdata_vars\u001b[0m\u001b[1;33m,\u001b[0m \u001b[0mcoords\u001b[0m\u001b[1;33m,\u001b[0m \u001b[0mcompat\u001b[0m\u001b[1;33m=\u001b[0m\u001b[1;34m\"broadcast_equals\"\u001b[0m\u001b[1;33m\u001b[0m\u001b[1;33m\u001b[0m\u001b[0m\n\u001b[0;32m    689\u001b[0m         )\n",
      "\u001b[1;32m~\\anaconda3\\lib\\site-packages\\xarray\\core\\merge.py\u001b[0m in \u001b[0;36mmerge_data_and_coords\u001b[1;34m(data, coords, compat, join)\u001b[0m\n\u001b[0;32m    464\u001b[0m     \u001b[0mobjects\u001b[0m \u001b[1;33m=\u001b[0m \u001b[1;33m[\u001b[0m\u001b[0mdata\u001b[0m\u001b[1;33m,\u001b[0m \u001b[0mcoords\u001b[0m\u001b[1;33m]\u001b[0m\u001b[1;33m\u001b[0m\u001b[1;33m\u001b[0m\u001b[0m\n\u001b[0;32m    465\u001b[0m     \u001b[0mexplicit_coords\u001b[0m \u001b[1;33m=\u001b[0m \u001b[0mcoords\u001b[0m\u001b[1;33m.\u001b[0m\u001b[0mkeys\u001b[0m\u001b[1;33m(\u001b[0m\u001b[1;33m)\u001b[0m\u001b[1;33m\u001b[0m\u001b[1;33m\u001b[0m\u001b[0m\n\u001b[1;32m--> 466\u001b[1;33m     \u001b[0mindexes\u001b[0m \u001b[1;33m=\u001b[0m \u001b[0mdict\u001b[0m\u001b[1;33m(\u001b[0m\u001b[0m_extract_indexes_from_coords\u001b[0m\u001b[1;33m(\u001b[0m\u001b[0mcoords\u001b[0m\u001b[1;33m)\u001b[0m\u001b[1;33m)\u001b[0m\u001b[1;33m\u001b[0m\u001b[1;33m\u001b[0m\u001b[0m\n\u001b[0m\u001b[0;32m    467\u001b[0m     return merge_core(\n\u001b[0;32m    468\u001b[0m         \u001b[0mobjects\u001b[0m\u001b[1;33m,\u001b[0m \u001b[0mcompat\u001b[0m\u001b[1;33m,\u001b[0m \u001b[0mjoin\u001b[0m\u001b[1;33m,\u001b[0m \u001b[0mexplicit_coords\u001b[0m\u001b[1;33m=\u001b[0m\u001b[0mexplicit_coords\u001b[0m\u001b[1;33m,\u001b[0m \u001b[0mindexes\u001b[0m\u001b[1;33m=\u001b[0m\u001b[0mindexes\u001b[0m\u001b[1;33m\u001b[0m\u001b[1;33m\u001b[0m\u001b[0m\n",
      "\u001b[1;32m~\\anaconda3\\lib\\site-packages\\xarray\\core\\merge.py\u001b[0m in \u001b[0;36m_extract_indexes_from_coords\u001b[1;34m(coords)\u001b[0m\n\u001b[0;32m    473\u001b[0m     \u001b[1;34m\"\"\"Yields the name & index of valid indexes from a mapping of coords\"\"\"\u001b[0m\u001b[1;33m\u001b[0m\u001b[1;33m\u001b[0m\u001b[0m\n\u001b[0;32m    474\u001b[0m     \u001b[1;32mfor\u001b[0m \u001b[0mname\u001b[0m\u001b[1;33m,\u001b[0m \u001b[0mvariable\u001b[0m \u001b[1;32min\u001b[0m \u001b[0mcoords\u001b[0m\u001b[1;33m.\u001b[0m\u001b[0mitems\u001b[0m\u001b[1;33m(\u001b[0m\u001b[1;33m)\u001b[0m\u001b[1;33m:\u001b[0m\u001b[1;33m\u001b[0m\u001b[1;33m\u001b[0m\u001b[0m\n\u001b[1;32m--> 475\u001b[1;33m         \u001b[0mvariable\u001b[0m \u001b[1;33m=\u001b[0m \u001b[0mas_variable\u001b[0m\u001b[1;33m(\u001b[0m\u001b[0mvariable\u001b[0m\u001b[1;33m,\u001b[0m \u001b[0mname\u001b[0m\u001b[1;33m=\u001b[0m\u001b[0mname\u001b[0m\u001b[1;33m)\u001b[0m\u001b[1;33m\u001b[0m\u001b[1;33m\u001b[0m\u001b[0m\n\u001b[0m\u001b[0;32m    476\u001b[0m         \u001b[1;32mif\u001b[0m \u001b[0mvariable\u001b[0m\u001b[1;33m.\u001b[0m\u001b[0mdims\u001b[0m \u001b[1;33m==\u001b[0m \u001b[1;33m(\u001b[0m\u001b[0mname\u001b[0m\u001b[1;33m,\u001b[0m\u001b[1;33m)\u001b[0m\u001b[1;33m:\u001b[0m\u001b[1;33m\u001b[0m\u001b[1;33m\u001b[0m\u001b[0m\n\u001b[0;32m    477\u001b[0m             \u001b[1;32myield\u001b[0m \u001b[0mname\u001b[0m\u001b[1;33m,\u001b[0m \u001b[0mvariable\u001b[0m\u001b[1;33m.\u001b[0m\u001b[0mto_index\u001b[0m\u001b[1;33m(\u001b[0m\u001b[1;33m)\u001b[0m\u001b[1;33m\u001b[0m\u001b[1;33m\u001b[0m\u001b[0m\n",
      "\u001b[1;32m~\\anaconda3\\lib\\site-packages\\xarray\\core\\variable.py\u001b[0m in \u001b[0;36mas_variable\u001b[1;34m(obj, name)\u001b[0m\n\u001b[0;32m    135\u001b[0m         \u001b[1;32mexcept\u001b[0m \u001b[1;33m(\u001b[0m\u001b[0mTypeError\u001b[0m\u001b[1;33m,\u001b[0m \u001b[0mValueError\u001b[0m\u001b[1;33m)\u001b[0m \u001b[1;32mas\u001b[0m \u001b[0merror\u001b[0m\u001b[1;33m:\u001b[0m\u001b[1;33m\u001b[0m\u001b[1;33m\u001b[0m\u001b[0m\n\u001b[0;32m    136\u001b[0m             \u001b[1;31m# use .format() instead of % because it handles tuples consistently\u001b[0m\u001b[1;33m\u001b[0m\u001b[1;33m\u001b[0m\u001b[1;33m\u001b[0m\u001b[0m\n\u001b[1;32m--> 137\u001b[1;33m             raise error.__class__(\n\u001b[0m\u001b[0;32m    138\u001b[0m                 \u001b[1;34m\"Could not convert tuple of form \"\u001b[0m\u001b[1;33m\u001b[0m\u001b[1;33m\u001b[0m\u001b[0m\n\u001b[0;32m    139\u001b[0m                 \u001b[1;34m\"(dims, data[, attrs, encoding]): \"\u001b[0m\u001b[1;33m\u001b[0m\u001b[1;33m\u001b[0m\u001b[0m\n",
      "\u001b[1;31mValueError\u001b[0m: Could not convert tuple of form (dims, data[, attrs, encoding]): (['time'], Delayed('getitem-6c26ffa6f36358cd1c8d57cb41451102')) to Variable."
     ]
    }
   ],
   "source": [
    "\n",
    "utemp=da.from_delayed(quantities[0],(256,201,256),dtype='float64')\n",
    "vtemp=da.from_delayed(quantities[1],(256,201,256),dtype='float64')\n",
    "wtemp=da.from_delayed(quantities[2],(256,201,256),dtype='float64')\n",
    "s1=da.from_delayed(quantities[3],(256,201,256),dtype='float64')\n",
    "s2=da.from_delayed(quantities[4],(256,201,256),dtype='float64')\n",
    "s3=da.from_delayed(quantities[5],(256,201,256),dtype='float64')\n",
    "s4=da.from_delayed(quantities[6],(256,201,256),dtype='float64')\n",
    "\n",
    "\n",
    "    #saving in a xarray\n",
    "ds=xr.Dataset(\n",
    "    {\n",
    "        \"u_vel\": (['x','y','z'],utemp),\n",
    "        \"v_vel\": (['x','y','z'],vtemp),\n",
    "        \"w_vel\": (['x','y','z'],wtemp),\n",
    "        \"pr1\": (['x','y','z'],s1),\n",
    "        \"pr0.71\":(['x','y','z'],s2),\n",
    "        \"pr0.2\": (['x','y','z'],s3),\n",
    "        \"pr0.025\": (['x','y','z'],s4),\n",
    "    },\n",
    "    coords={\n",
    "        \"x\":([\"x\"],xF),\n",
    "        \"y\":([\"y\"],yF),\n",
    "        \"z\":([\"z\"],zF),\n",
    "        \"time\":([\"time\"],length[2]),\n",
    "    },\n",
    "\n",
    ").chunk(1000)\n",
    "\n",
    "ds.to_netcdf(iterim_path+filename[:-1]+'nc')"
   ]
  }
 ],
 "metadata": {
  "kernelspec": {
   "display_name": "Python 3",
   "language": "python",
   "name": "python3"
  },
  "language_info": {
   "codemirror_mode": {
    "name": "ipython",
    "version": 3
   },
   "file_extension": ".py",
   "mimetype": "text/x-python",
   "name": "python",
   "nbconvert_exporter": "python",
   "pygments_lexer": "ipython3",
   "version": "3.8.8"
  }
 },
 "nbformat": 4,
 "nbformat_minor": 5
}
